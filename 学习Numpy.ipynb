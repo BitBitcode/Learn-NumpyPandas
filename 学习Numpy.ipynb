{
 "metadata": {
  "language_info": {
   "codemirror_mode": {
    "name": "ipython",
    "version": 3
   },
   "file_extension": ".py",
   "mimetype": "text/x-python",
   "name": "python",
   "nbconvert_exporter": "python",
   "pygments_lexer": "ipython3",
   "version": "3.8.5-final"
  },
  "orig_nbformat": 2,
  "kernelspec": {
   "name": "python_defaultSpec_1597159998358",
   "display_name": "Python 3.8.5 64-bit ('Explore': conda)"
  }
 },
 "nbformat": 4,
 "nbformat_minor": 2,
 "cells": [
  {
   "cell_type": "markdown",
   "metadata": {},
   "source": [
    "# 1.Numpy基础知识\n"
   ]
  },
  {
   "cell_type": "markdown",
   "metadata": {},
   "source": [
    "## 1.1 矩阵及其定义"
   ]
  },
  {
   "cell_type": "code",
   "execution_count": 21,
   "metadata": {
    "tags": []
   },
   "outputs": [
    {
     "output_type": "stream",
     "name": "stdout",
     "text": "[[1 2 3]\n [4 5 6]]\n维数:\t 2\n行列数:\t (2, 3)\n大小:\t 6\n"
    }
   ],
   "source": [
    "import numpy\n",
    "\n",
    "ins_array = numpy.array([[1, 2, 3], [4, 5, 6]])\n",
    "\n",
    "print(ins_array)\n",
    "print(\"维数:\\t\", ins_array.ndim)\n",
    "print(\"行列数:\\t\", ins_array.shape)\n",
    "print(\"大小:\\t\", ins_array.size)"
   ]
  },
  {
   "cell_type": "code",
   "execution_count": 22,
   "metadata": {
    "tags": []
   },
   "outputs": [
    {
     "output_type": "stream",
     "name": "stdout",
     "text": "a矩阵的数据类型：float64\n"
    }
   ],
   "source": [
    "a = numpy.array([1, 2, 3], dtype=numpy.float)\n",
    "print(\"a矩阵的数据类型：\" + str(a.dtype))"
   ]
  },
  {
   "cell_type": "code",
   "execution_count": 23,
   "metadata": {
    "tags": []
   },
   "outputs": [
    {
     "output_type": "stream",
     "name": "stdout",
     "text": "b矩阵的数据类型：float64\n[[0 0 0 0 0]\n [0 0 0 0 0]]\n"
    }
   ],
   "source": [
    "# 定义一个3行4列的零矩阵\n",
    "b = numpy.zeros((3, 4))      # 默认是float64\n",
    "print(\"b矩阵的数据类型：\" + str(b.dtype))\n",
    "\n",
    "c = numpy.zeros((2, 5), dtype=numpy.int)\n",
    "print(c)"
   ]
  },
  {
   "cell_type": "code",
   "execution_count": 24,
   "metadata": {
    "tags": []
   },
   "outputs": [
    {
     "output_type": "stream",
     "name": "stdout",
     "text": "[[1. 1. 1.]\n [1. 1. 1.]\n [1. 1. 1.]]\n"
    }
   ],
   "source": [
    "# 定义一个单位矩阵\n",
    "d = numpy.ones((3, 3))      # 默认是float64\n",
    "print(d)"
   ]
  },
  {
   "cell_type": "code",
   "execution_count": 25,
   "metadata": {
    "tags": []
   },
   "outputs": [
    {
     "output_type": "stream",
     "name": "stdout",
     "text": "[[0.61772571 0.59486727 0.57892003 0.29061079]\n [0.23020622 0.20892927 0.4431468  0.95100527]\n [0.1663929  0.95746571 0.33401785 0.53065095]]\n"
    }
   ],
   "source": [
    "# 定义一个空矩阵\n",
    "e = numpy.empty((3, 4))\n",
    "print(e)"
   ]
  },
  {
   "cell_type": "code",
   "execution_count": 26,
   "metadata": {
    "tags": []
   },
   "outputs": [
    {
     "output_type": "stream",
     "name": "stdout",
     "text": "[0 2 4 6 8]\n"
    }
   ],
   "source": [
    "f = numpy.arange(0, 10, 2)  # 从0到10每隔2生成一个数据\n",
    "# 左闭右开区间\n",
    "print(f)"
   ]
  },
  {
   "cell_type": "code",
   "execution_count": 27,
   "metadata": {
    "tags": []
   },
   "outputs": [
    {
     "output_type": "stream",
     "name": "stdout",
     "text": "[[ 0  1  2  3]\n [ 4  5  6  7]\n [ 8  9 10 11]]\n"
    }
   ],
   "source": [
    "# 生成12个数，并重新排列为3行4列\n",
    "g = numpy.arange(12).reshape((3, 4))\n",
    "print(g)"
   ]
  },
  {
   "cell_type": "code",
   "execution_count": 28,
   "metadata": {
    "tags": []
   },
   "outputs": [
    {
     "output_type": "stream",
     "name": "stdout",
     "text": "[[ 1.          1.47368421  1.94736842  2.42105263  2.89473684]\n [ 3.36842105  3.84210526  4.31578947  4.78947368  5.26315789]\n [ 5.73684211  6.21052632  6.68421053  7.15789474  7.63157895]\n [ 8.10526316  8.57894737  9.05263158  9.52631579 10.        ]]\n"
    }
   ],
   "source": [
    "h = numpy.linspace(1, 10, 20).reshape(4,5)      # 从1到10分为20段\n",
    "print(h)"
   ]
  },
  {
   "cell_type": "markdown",
   "metadata": {},
   "source": [
    "### 随机生成\n",
    "\n",
    "随机生成(0,1)的数作为矩阵元素\n",
    "\n",
    "`i = numpy.random.random((3,4))`\n",
    "\n",
    "+ 第一个random是模块，第二个random是函数\n",
    "+ 括号内定义shape，元组形式，不要忘了括号（外层括号是函数的，内层括号是元组的）"
   ]
  },
  {
   "cell_type": "code",
   "execution_count": 29,
   "metadata": {
    "tags": []
   },
   "outputs": [
    {
     "output_type": "stream",
     "name": "stdout",
     "text": "[[0.13277498 0.29571061 0.9741199  0.19671741]\n [0.95046802 0.88939578 0.86678486 0.56430966]\n [0.36057012 0.11256988 0.84930197 0.25469173]]\n"
    }
   ],
   "source": [
    "i = numpy.random.random((3,4))\n",
    "\n",
    "print(i)"
   ]
  },
  {
   "cell_type": "markdown",
   "metadata": {},
   "source": [
    "# 2.Numpy运算基础"
   ]
  },
  {
   "cell_type": "code",
   "execution_count": 30,
   "metadata": {
    "tags": []
   },
   "outputs": [],
   "source": [
    "import numpy\n",
    "import math\n",
    "\n",
    "A = numpy.array([\n",
    "    [1, 2, 3],\n",
    "    [4, 5, 6],\n",
    "    [7, 8, 9]\n",
    "])\n",
    "\n",
    "B = numpy.array([\n",
    "    [7, 8, 9],\n",
    "    [1, 2, 3],\n",
    "    [4, 5, 6]\n",
    "])"
   ]
  },
  {
   "cell_type": "markdown",
   "metadata": {},
   "source": [
    "## 2.1 矩阵运算\n",
    "\n",
    "Numpy 提供了基础的矩阵算法，其计算逻辑和线性代数完全一致。\n",
    "\n",
    "矩阵的知识点\n",
    "+ 矩阵的运算：加乘（法）乘（方）转方逆\n",
    "+ 初等变换与初等矩阵\n",
    "+ 秩及其公式"
   ]
  },
  {
   "cell_type": "markdown",
   "metadata": {},
   "source": [
    "### 2.1.1 矩阵的加法"
   ]
  },
  {
   "cell_type": "code",
   "execution_count": 31,
   "metadata": {
    "tags": []
   },
   "outputs": [
    {
     "output_type": "stream",
     "name": "stdout",
     "text": "A + B = \n[[ 8 10 12]\n [ 5  7  9]\n [11 13 15]]\n"
    }
   ],
   "source": [
    "print(\"A + B = \")\n",
    "print(A + B)"
   ]
  },
  {
   "cell_type": "markdown",
   "metadata": {},
   "source": [
    "### 2.1.2 矩阵的乘法\n",
    "\n",
    "矩阵的乘法满足：\n",
    "+ 交换律：不满足\n",
    "+ 消去律：\n",
    "+ 零因子律"
   ]
  },
  {
   "cell_type": "markdown",
   "metadata": {},
   "source": [
    "#### 2.1.2.1 矩阵乘法的运算\n",
    "\n",
    "【注意】在Numpy中，如果定义的array用作数组，只是对应元素相乘，那么直接用“*”即可。但如果希望使用矩阵的乘法，则应当使用\n",
    "\n",
    "```python\n",
    "numpy.dot(A, B)\n",
    "```\n",
    "\n",
    "或者：\n",
    "\n",
    "```python\n",
    "A.dot(B)\n",
    "```\n",
    "\n",
    "矩阵乘法不满足交换律"
   ]
  },
  {
   "cell_type": "code",
   "execution_count": 32,
   "metadata": {
    "tags": []
   },
   "outputs": [
    {
     "output_type": "stream",
     "name": "stdout",
     "text": "A = \n [[1 2 3]\n [4 5 6]\n [7 8 9]] \n\n B = \n [[7 8 9]\n [1 2 3]\n [4 5 6]] \n\nA、B对应相乘（非矩阵乘法）：\n [[ 7 16 27]\n [ 4 10 18]\n [28 40 54]]\n\n\nA、B矩阵相乘（矩阵的乘法）：\n [[ 21  27  33]\n [ 57  72  87]\n [ 93 117 141]]\n\n\nB、A矩阵相乘（矩阵的乘法）：\n [[102 126 150]\n [ 30  36  42]\n [ 66  81  96]]\n"
    }
   ],
   "source": [
    "print(\"A = \\n\", A, \"\\n\\n\", \"B = \\n\", B, \"\\n\")\n",
    "print(\"A、B对应相乘（非矩阵乘法）：\\n\", A * B)\n",
    "print(\"\\n\")\n",
    "\n",
    "AB = numpy.dot(A, B)\n",
    "print(\"A、B矩阵相乘（矩阵的乘法）：\\n\", AB)\n",
    "\n",
    "print(\"\\n\")\n",
    "\n",
    "BA = B.dot(A)\n",
    "print(\"B、A矩阵相乘（矩阵的乘法）：\\n\", BA)"
   ]
  },
  {
   "cell_type": "markdown",
   "metadata": {},
   "source": [
    "#### 2.1.2.2 一行乘一列与一列乘一行\n",
    "\n",
    "根据线性代数的相关知识：\n",
    "+ 一行乘一列将得到一个数；\n",
    "+ 一列乘一行将得到一个矩阵。\n",
    "\n",
    "证明$AA^{T} = A^{T}A$，"
   ]
  },
  {
   "cell_type": "code",
   "execution_count": 33,
   "metadata": {
    "tags": []
   },
   "outputs": [
    {
     "output_type": "stream",
     "name": "stdout",
     "text": "a = \n [[1 2 3]] \n\n b = \n [[1]\n [2]\n [3]] \n\n行·列：a·b = \n [[14]] \n\n列·行：b·a = \n [[1 2 3]\n [2 4 6]\n [3 6 9]]\n"
    }
   ],
   "source": [
    "a = numpy.array([[1, 2, 3]])\n",
    "b = numpy.array([\n",
    "    [1], \n",
    "    [2], \n",
    "    [3]\n",
    "])\n",
    "\n",
    "print(\"a = \\n\", a, \"\\n\\n\", \"b = \\n\", b, \"\\n\")\n",
    "ab = numpy.dot(a, b)\n",
    "print(\"行·列：a·b = \\n\", ab, \"\\n\")\n",
    "ba = numpy.dot(b, a)\n",
    "print(\"列·行：b·a = \\n\", ba)"
   ]
  },
  {
   "cell_type": "markdown",
   "metadata": {},
   "source": [
    "### 2.1.3 矩阵的乘方\n",
    "A^n 的五种计算\n",
    "#### 2.1.3.1 \n",
    "\n",
    "#### 2.1.3.2 可逆矩阵\n",
    "$$\t\t\t\n",
    "A^{n} = P \\Lambda P^{-1}\n",
    "$$"
   ]
  },
  {
   "cell_type": "code",
   "execution_count": null,
   "metadata": {},
   "outputs": [],
   "source": []
  },
  {
   "cell_type": "markdown",
   "metadata": {},
   "source": [
    "### 2.1.4 矩阵的转置\n",
    "\n",
    "矩阵转置的相关公式：\n",
    "$$\n",
    "A^{T} = A \\\\\n",
    "(AB)^{T} = B^{T}A^{T}  类似：(AB)^{-1} = B^{-1}A^{-1}; (AB)^{*} = B^{*}A^{*}\\\\\n",
    "(A+B)^{T} = B^{T} + A^{T} \\\\\n",
    "(kA)^{T} = kA^{T}\n",
    "$$\n",
    "转置、可逆、？？三种运算时可交换的：\n",
    "$$\n",
    "(A^{T})^{-1} = (A^{-1})^{T} \\\\\n",
    "(A^{-1})^{*} = (A^{*})^{-1} \\\\\n",
    "(A^{*})^{T} = (A^{T})^{*}\n",
    "$$"
   ]
  },
  {
   "cell_type": "code",
   "execution_count": null,
   "metadata": {},
   "outputs": [],
   "source": []
  },
  {
   "cell_type": "markdown",
   "metadata": {},
   "source": [
    "### 2.1.5 矩阵的逆运算\n",
    "\n",
    "（可逆的前提是方阵）\n",
    "\n",
    "#### 求可逆矩阵\n",
    "\n",
    "1、定义法（多用于抽象矩阵）\n",
    "$$\n",
    "A \\cdot (?) = E， 则： (?) = A^{-1}\n",
    "$$\n",
    "\n",
    "2、公式法\n",
    "$$\n",
    "A^{-1} = \\frac{A^{*}}{|A|}\n",
    "$$\n",
    "\n",
    "3、初等矩阵法\n",
    "\n",
    "对$(A, E)$矩阵进行初等行变换至$(E, B)$，所得到的B矩阵就是A的逆矩阵"
   ]
  },
  {
   "cell_type": "code",
   "execution_count": null,
   "metadata": {},
   "outputs": [],
   "source": []
  },
  {
   "cell_type": "markdown",
   "metadata": {},
   "source": [
    "## 2.2 初等变换与初等矩阵\n",
    "\n",
    "左乘行变换，右乘列变换\n"
   ]
  },
  {
   "cell_type": "code",
   "execution_count": 34,
   "metadata": {
    "tags": []
   },
   "outputs": [
    {
     "output_type": "stream",
     "name": "stdout",
     "text": "A = \n [[1 2 3]\n [4 5 6]\n [7 8 9]] \n\n E_ij = \n [[1 0 0]\n [0 0 1]\n [0 1 0]] \n\nE_ij · A = \n [[1 2 3]\n [7 8 9]\n [4 5 6]]\n左乘行变换\n\nA · E_ij  = \n [[1 3 2]\n [4 6 5]\n [7 9 8]]\n右乘列变换\n\n"
    }
   ],
   "source": [
    "E = numpy.array([\n",
    "    [1, 0, 0],\n",
    "    [0, 1, 0],\n",
    "    [0, 0, 1]\n",
    "])\n",
    "\n",
    "E_ij = numpy.array([\n",
    "    [1, 0, 0],\n",
    "    [0, 0, 1],\n",
    "    [0, 1, 0]\n",
    "])\n",
    "\n",
    "print(\"A = \\n\", A, \"\\n\\n\", \"E_ij = \\n\", E_ij, \"\\n\")\n",
    "\n",
    "EijA = numpy.dot(E_ij, A)\n",
    "print(\"E_ij · A = \\n\", EijA)\n",
    "print(\"左乘行变换\\n\")\n",
    "\n",
    "AEij = numpy.dot(A, E_ij)\n",
    "print(\"A · E_ij  = \\n\", AEij)\n",
    "print(\"右乘列变换\\n\")"
   ]
  },
  {
   "cell_type": "markdown",
   "metadata": {},
   "source": [
    "## 2.4 矩阵的秩\n",
    "\n",
    "### 定义\n",
    "\n",
    "最高阶非零子式的阶数\n",
    "\n",
    "### 应用\n",
    "\n",
    "+ $A \\neq 0  \\Leftrightarrow  r(A) \\geq 1$\n",
    "+ $A \\neq 0  \\Leftrightarrow  r(A) \\geq 1$"
   ]
  },
  {
   "cell_type": "code",
   "execution_count": null,
   "metadata": {},
   "outputs": [],
   "source": []
  },
  {
   "cell_type": "markdown",
   "metadata": {},
   "source": [
    "## 2.2 三角函数"
   ]
  },
  {
   "cell_type": "code",
   "execution_count": 35,
   "metadata": {
    "tags": []
   },
   "outputs": [
    {
     "output_type": "stream",
     "name": "stdout",
     "text": "0.017453292519943295\n[0.00000000e+00 5.00000000e-01 7.07106781e-01 8.66025404e-01\n 1.00000000e+00 1.22464680e-16]\n[ 1.00000000e+00  8.66025404e-01  7.07106781e-01  5.00000000e-01\n  6.12323400e-17 -1.00000000e+00]\n"
    }
   ],
   "source": [
    "angle = numpy.array([0, 30, 45, 60, 90, 180])\n",
    "print(math.pi/180)\n",
    "sin_value = numpy.sin(angle * ((2*(math.pi))/360))\n",
    "cos_value = numpy.cos(angle * ((2*(math.pi))/360))\n",
    "print(sin_value)\n",
    "print(cos_value)"
   ]
  },
  {
   "cell_type": "markdown",
   "metadata": {},
   "source": [
    "## 2.3 判断大小\n",
    "\n",
    "判断矩阵中元素是否符合给定的条件，返回布尔值。\n",
    "\n",
    "【注意】需要注意的是，判断等于用“==”，而不是“=”"
   ]
  },
  {
   "cell_type": "code",
   "execution_count": 36,
   "metadata": {
    "tags": []
   },
   "outputs": [
    {
     "output_type": "stream",
     "name": "stdout",
     "text": "[[False False False]\n [ True  True  True]\n [ True  True  True]]\n[[False False False]\n [False False False]\n [ True False False]]\n"
    }
   ],
   "source": [
    "print(A > 3)\n",
    "print(B == 4)"
   ]
  },
  {
   "cell_type": "markdown",
   "metadata": {},
   "source": [
    "## 2.4 求和与求最值"
   ]
  },
  {
   "cell_type": "code",
   "execution_count": 44,
   "metadata": {
    "tags": []
   },
   "outputs": [
    {
     "output_type": "stream",
     "name": "stdout",
     "text": "A = \n [[1 2 3]\n [4 5 6]\n [7 8 9]] \n\n\n求和： 45\n最小： 1\n最大： 9\n\n\n在每一行中：\n求和： [ 6 15 24]\n最小： [1 4 7]\n最大： [3 6 9]\n\n\n在每一列中：\n求和： [12 15 18]\n最小： [1 2 3]\n最大： [7 8 9]\n"
    }
   ],
   "source": [
    "print(\"A = \\n\", A, \"\\n\\n\")\n",
    "\n",
    "# 在全部矩阵中操作\n",
    "print(\"求和：\", numpy.sum(A))\n",
    "print(\"最小：\", numpy.min(A))\n",
    "print(\"最大：\", numpy.max(A))\n",
    "\n",
    "print(\"\\n\")\n",
    "\n",
    "# 在某一行、列中操作\n",
    "print(\"在每一行中：\")\n",
    "print(\"求和：\", numpy.sum(A, axis=1))\n",
    "print(\"最小：\", numpy.min(A, axis=1))\n",
    "print(\"最大：\", numpy.max(A, axis=1))\n",
    "\n",
    "print(\"\\n\")\n",
    "\n",
    "print(\"在每一列中：\")\n",
    "print(\"求和：\", numpy.sum(A, axis=0))\n",
    "print(\"最小：\", numpy.min(A, axis=0))\n",
    "print(\"最大：\", numpy.max(A, axis=0))"
   ]
  },
  {
   "cell_type": "markdown",
   "metadata": {},
   "source": [
    "Visual Studio Code 提示没有安装 ipykernel，通过命令行安装在了真实环境下，由于附带安装的包较多，特此记录：\n",
    "```\n",
    "Installing collected packages: \n",
    "pywin32, \n",
    "ipython-genutils, \n",
    "decorator, \n",
    "traitlets, \n",
    "jupyter-core, \n",
    "tornado, \n",
    "pyzmq, \n",
    "python-dateutil, \n",
    "jupyter-client, \n",
    "wcwidth, \n",
    "prompt-toolkit, \n",
    "backcall, \n",
    "parso, \n",
    "jedi, \n",
    "pygments, \n",
    "pickleshare, \n",
    "ipython, \n",
    "ipykernel\n",
    "```"
   ]
  }
 ]
}